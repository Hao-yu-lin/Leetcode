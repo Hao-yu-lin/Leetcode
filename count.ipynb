{
 "cells": [
  {
   "cell_type": "code",
   "execution_count": 1,
   "metadata": {},
   "outputs": [
    {
     "name": "stdout",
     "output_type": "stream",
     "text": [
      "當前目錄及子目錄中有 21 個.cpp文件。\n"
     ]
    }
   ],
   "source": [
    "import os\n",
    "def count_cpp_files(directory='.'):\n",
    "    cpp_count = 0\n",
    "\n",
    "    for root, dirs, files in os.walk(directory):\n",
    "        for file in files:\n",
    "            if file.endswith('.cpp'):\n",
    "                cpp_count += 1\n",
    "\n",
    "    return cpp_count\n",
    "\n",
    "\n",
    "current_dir = os.getcwd()\n",
    "\n",
    "cpp_count = count_cpp_files(current_dir)-1\n",
    "print(f\"當前目錄及子目錄中有 {cpp_count} 個.cpp文件。\")\n"
   ]
  }
 ],
 "metadata": {
  "kernelspec": {
   "display_name": "Python 3",
   "language": "python",
   "name": "python3"
  },
  "language_info": {
   "codemirror_mode": {
    "name": "ipython",
    "version": 3
   },
   "file_extension": ".py",
   "mimetype": "text/x-python",
   "name": "python",
   "nbconvert_exporter": "python",
   "pygments_lexer": "ipython3",
   "version": "3.8.10"
  },
  "orig_nbformat": 4
 },
 "nbformat": 4,
 "nbformat_minor": 2
}
